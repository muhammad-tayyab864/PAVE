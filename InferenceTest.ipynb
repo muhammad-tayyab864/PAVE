{
 "cells": [
  {
   "cell_type": "code",
   "execution_count": null,
   "metadata": {},
   "outputs": [],
   "source": [
    "import cv2 \n",
    "import torch \n",
    "import pandas as pd\n",
    "import random\n",
    "import warnings \n",
    "import torch.nn as nn\n",
    "import torch.nn.functional as F\n",
    "import matplotlib.pyplot as plt\n",
    "from models.space_net import SPACE\n",
    "from models.race import RACE, ACE\n",
    "from models.hdrnet import PICE_B\n",
    "from utils import decompose_imgs, compose_imgs\n",
    "from ssim_map import pos_similarity_ratio\n",
    "from saliency_losses import nss, corr_coeff, kld_loss, log_softmax, softmax\n",
    "from utils import contrast_loss_G, contrast_loss_L, R_imgs, R_sclr, EME\n",
    "from ISFDataset import ISFDataset\n",
    "from torch.utils.data import DataLoader\n",
    "from kornia.losses.ssim import ssim_loss\n",
    "import numpy as np"
   ]
  },
  {
   "cell_type": "code",
   "execution_count": null,
   "metadata": {},
   "outputs": [],
   "source": [
    "img = cv2.imread(\"./test_images/OutdoorManMade_004.jpg\") \n",
    "img = cv2.cvtColor(img, cv2.COLOR_BGR2RGB)\n",
    "orig_img = img.copy()\n",
    "img = torch.from_numpy(img).permute(2,0,1).unsqueeze(0) / 255. \n",
    "y, cbcr = decompose_imgs(img)\n",
    "\n",
    "gamma = 2.2\n",
    "k = 0.6\n",
    "R = 1 - k ** gamma\n",
    "y_R = y * k\n",
    "print(y.shape)"
   ]
  },
  {
   "cell_type": "code",
   "execution_count": 3,
   "metadata": {},
   "outputs": [],
   "source": [
    "model_space = SPACE(apply_center_bias=True, apply_gfcorrection=True, apply_len=True)\n",
    "model_race = RACE()\n",
    "model_ace = ACE()"
   ]
  },
  {
   "cell_type": "code",
   "execution_count": 4,
   "metadata": {},
   "outputs": [],
   "source": [
    "### MEASURE LATENCY CPU\n",
    "import time\n",
    "import psutil\n",
    "\n",
    "def measure_latency_cpu_usage(model, test_inputs, R=0):\n",
    "    # move model and input to cpu\n",
    "    model = model.to(\"cpu\")\n",
    "    test_inputs = test_inputs.to(\"cpu\")\n",
    "    process = psutil.Process()\n",
    "    cpu_start = process.cpu_percent()\n",
    "    start = time.time()\n",
    "    with torch.no_grad():\n",
    "        _ = model(test_inputs, R=R)\n",
    "    end = time.time()\n",
    "    cpu_end = process.cpu_percent()\n",
    "    latency = end - start\n",
    "    cpu_usage = cpu_end - cpu_start\n",
    "    return latency, cpu_usage\n",
    "\n",
    "history_ltc = []\n",
    "for i in range(50):\n",
    "    ltc, _ = measure_latency_cpu_usage(model_ace, y, R)\n",
    "    history_ltc.append(ltc)"
   ]
  },
  {
   "cell_type": "code",
   "execution_count": null,
   "metadata": {},
   "outputs": [],
   "source": [
    "print(np.mean(history_ltc), np.std(history_ltc)) # in second unit"
   ]
  },
  {
   "cell_type": "code",
   "execution_count": null,
   "metadata": {},
   "outputs": [],
   "source": [
    "### MEASURE LATENCY GPU\n",
    "# move the model to GPU\n",
    "def measure_latency_gpu(model, test_inputs, R=0):\n",
    "   model = model.to(\"cuda\")\n",
    "   test_inputs = test_inputs.to(\"cuda\")\n",
    "   starter, ender = torch.cuda.Event(enable_timing=True), torch.cuda.Event(enable_timing=True)\n",
    "   repetitions = 50\n",
    "   timings=np.zeros((repetitions,1))\n",
    "   #GPU-WARM-UP\n",
    "   for _ in range(10):\n",
    "      _ = model(test_inputs, R=R)\n",
    "   # MEASURE PERFORMANCE\n",
    "   with torch.no_grad():\n",
    "      for rep in range(repetitions):\n",
    "         starter.record()\n",
    "         _ = model(test_inputs, R=R)\n",
    "         ender.record()\n",
    "         # WAIT FOR GPU SYNC\n",
    "         torch.cuda.synchronize()\n",
    "         curr_time = starter.elapsed_time(ender)\n",
    "         timings[rep] = curr_time\n",
    "   mean_syn = np.sum(timings) / repetitions\n",
    "   std_syn = np.std(timings)\n",
    "   print(mean_syn, std_syn)\n",
    "   \n",
    "measure_latency_gpu(model_ace, y, R)"
   ]
  },
  {
   "cell_type": "markdown",
   "metadata": {},
   "source": [
    "### PERFORM THE TWO TASKS FOR DIFFERENT INPUT RESOLUTION\n"
   ]
  },
  {
   "cell_type": "code",
   "execution_count": null,
   "metadata": {},
   "outputs": [],
   "source": [
    "img_480 = cv2.resize(orig_img, (848, 480))\n",
    "img_720 = cv2.resize(orig_img, (1280, 720))\n",
    "img_1080 = orig_img\n",
    "img_2k = cv2.resize(orig_img, (2048, 1556))\n",
    "img_480 = torch.from_numpy(img_480).permute(2,0,1).unsqueeze(0) / 255. \n",
    "img_720 = torch.from_numpy(img_720).permute(2,0,1).unsqueeze(0) / 255. \n",
    "img_1080 = torch.from_numpy(img_1080).permute(2,0,1).unsqueeze(0) / 255. \n",
    "img_2k = torch.from_numpy(img_2k).permute(2,0,1).unsqueeze(0) / 255. \n",
    "y_480, _ = decompose_imgs(img_480)\n",
    "y_1080, _ = decompose_imgs(img_1080)\n",
    "y_720, _ = decompose_imgs(img_720)\n",
    "y_2k, _ = decompose_imgs(img_2k)\n",
    "print(y_480.shape)\n",
    "print(y_720.shape)\n",
    "print(y_1080.shape)\n",
    "print(y_2k.shape)"
   ]
  },
  {
   "cell_type": "code",
   "execution_count": null,
   "metadata": {},
   "outputs": [],
   "source": [
    "img_list = [y_480, y_720, y_1080, y_2k]\n",
    "model_list = [model_ace, model_race, model_space]\n",
    "\n",
    "for i, model in enumerate(model_list):\n",
    "    print(f\"MODEL {i}\")\n",
    "    for img in img_list:\n",
    "        print(f\"==== CPU TIME FOR INPUT {img.shape}\")\n",
    "        history_ltc = []\n",
    "        for i in range(20):\n",
    "            ltc, _ = measure_latency_cpu_usage(model, img, R)\n",
    "            history_ltc.append(ltc)\n",
    "        print(np.mean(history_ltc), np.std(history_ltc)) # in second unit\n",
    "    "
   ]
  }
 ],
 "metadata": {
  "kernelspec": {
   "display_name": "oled",
   "language": "python",
   "name": "python3"
  },
  "language_info": {
   "codemirror_mode": {
    "name": "ipython",
    "version": 3
   },
   "file_extension": ".py",
   "mimetype": "text/x-python",
   "name": "python",
   "nbconvert_exporter": "python",
   "pygments_lexer": "ipython3",
   "version": "3.10.14"
  }
 },
 "nbformat": 4,
 "nbformat_minor": 2
}
