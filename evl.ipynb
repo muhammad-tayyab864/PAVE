{
 "cells": [
  {
   "cell_type": "code",
   "execution_count": null,
   "metadata": {},
   "outputs": [],
   "source": [
    "import cv2 \n",
    "import torch \n",
    "import pandas as pd\n",
    "import random\n",
    "import warnings \n",
    "import torch.nn as nn\n",
    "import torch.nn.functional as F\n",
    "import matplotlib.pyplot as plt\n",
    "from models.space_net import SPACE\n",
    "from models.race import RACE, ACE\n",
    "from models.hdrnet import PICE_B\n",
    "from utils import decompose_imgs, compose_imgs\n",
    "from ssim_map import pos_similarity_ratio\n",
    "from saliency_losses import nss, corr_coeff, kld_loss, log_softmax, softmax\n",
    "from utils import contrast_loss_G, contrast_loss_L, R_imgs, R_sclr, EME\n",
    "from ISFDataset import ISFDataset\n",
    "from torch.utils.data import DataLoader\n",
    "from kornia.losses.ssim import ssim_loss\n",
    "import numpy as np"
   ]
  },
  {
   "cell_type": "code",
   "execution_count": 4,
   "metadata": {},
   "outputs": [],
   "source": [
    "img = cv2.imread(\"./test_images/img142.bmp\") \n",
    "img = cv2.cvtColor(img, cv2.COLOR_BGR2RGB)\n",
    "orig_img = img.copy()\n",
    "img = torch.from_numpy(img).permute(2,0,1).unsqueeze(0) / 255. \n",
    "y, cbcr = decompose_imgs(img)\n",
    "\n",
    "gamma = 2.2\n",
    "k = 0.6\n",
    "R = 1 - k ** gamma\n",
    "y_R = y * k"
   ]
  },
  {
   "cell_type": "code",
   "execution_count": null,
   "metadata": {},
   "outputs": [],
   "source": [
    "model = SPACE(apply_center_bias=True, apply_gfcorrection=True, apply_len=True)\n",
    "model.load_state_dict(torch.load(\"C:/Users/lps3090/Desktop/space/results/PAVE.pth\"))    \n",
    "print(torch.cuda.is_available())\n",
    "\n",
    "with torch.no_grad():\n",
    "    y_hat = model(y, R=R)\n",
    "rgb_hat = torch.clamp(compose_imgs(y_hat, cbcr), 0., 1.)\n",
    "cd = pos_similarity_ratio(y_hat, y_R, y)\n",
    "img_out = rgb_hat.squeeze().permute(1,2,0).cpu().numpy()\n",
    "cd_out = -cd.squeeze().cpu().numpy()\n",
    "\n",
    "_ssim_loss = 2 * ssim_loss(y_hat, y, window_size=5, reduction='mean') \n",
    "f, axarr = plt.subplots(1,3, figsize=(12,12))\n",
    "\n",
    "axarr[0].imshow(orig_img)\n",
    "axarr[1].imshow(img_out)\n",
    "axarr[2].imshow(cd_out)\n",
    "plt.show()\n",
    "print(1 - _ssim_loss/2)"
   ]
  }
 ],
 "metadata": {
  "kernelspec": {
   "display_name": "oled",
   "language": "python",
   "name": "python3"
  },
  "language_info": {
   "codemirror_mode": {
    "name": "ipython",
    "version": 3
   },
   "file_extension": ".py",
   "mimetype": "text/x-python",
   "name": "python",
   "nbconvert_exporter": "python",
   "pygments_lexer": "ipython3",
   "version": "3.10.14"
  }
 },
 "nbformat": 4,
 "nbformat_minor": 2
}
